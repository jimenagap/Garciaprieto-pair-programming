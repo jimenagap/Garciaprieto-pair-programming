{
 "cells": [
  {
   "cell_type": "markdown",
   "id": "32e69ec7-fe85-4154-a2d9-4a7303655a36",
   "metadata": {},
   "source": [
    "# Original Function:"
   ]
  },
  {
   "cell_type": "code",
   "execution_count": null,
   "id": "b6142a74-5d0d-4a64-8452-aee383a49bbb",
   "metadata": {},
   "outputs": [],
   "source": [
    "#Jimena Garciaprieto\n",
    "#Takes two values (feet and inches) and converts to meters\n",
    "    \n",
    "ft = int(input('Feet: '))\n",
    "inch = int(input('Inches: '))\n",
    "\n",
    "inches = (ft*12) + inch\n",
    "meters = inches / 39.37\n",
    "\n",
    "print(f'{meters:.2f} meters')"
   ]
  },
  {
   "cell_type": "markdown",
   "id": "beb61da0-fe05-4242-9f3c-6953673152ef",
   "metadata": {},
   "source": [
    "# Adding Tests:"
   ]
  },
  {
   "cell_type": "code",
   "execution_count": 3,
   "id": "a610fb33-e3be-4424-a13c-0cf23c413bea",
   "metadata": {
    "tags": []
   },
   "outputs": [
    {
     "name": "stdout",
     "output_type": "stream",
     "text": [
      "Passed all tests\n"
     ]
    }
   ],
   "source": [
    "def inches_to_meters(feet, inch):\n",
    "    inches = (feet*12) + inch\n",
    "    meters = inches / 39.37\n",
    "    return meters\n",
    "\n",
    "def test_inches_to_meters():\n",
    "    assert inches_to_meters(0,0) == 0\n",
    "    assert inches_to_meters(3,3.37) == 1\n",
    "    print(\"Passed all tests\")\n",
    "    \n",
    "\n",
    "test_inches_to_meters()"
   ]
  }
 ],
 "metadata": {
  "kernelspec": {
   "display_name": "Python 3 (ipykernel)",
   "language": "python",
   "name": "python3"
  },
  "language_info": {
   "codemirror_mode": {
    "name": "ipython",
    "version": 3
   },
   "file_extension": ".py",
   "mimetype": "text/x-python",
   "name": "python",
   "nbconvert_exporter": "python",
   "pygments_lexer": "ipython3",
   "version": "3.11.5"
  }
 },
 "nbformat": 4,
 "nbformat_minor": 5
}
